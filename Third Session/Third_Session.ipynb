{
 "cells": [
  {
   "cell_type": "markdown",
   "metadata": {},
   "source": [
    "# Introduction to Python Packages\n",
    "In this notebook, we will explore several essential Python packages used for various tasks, including file handling, numerical computations, data manipulation, and visualization.\n",
    "\n",
    "## Table of Contents\n",
    "- [OS](#os)\n",
    "- [Glob](#glob)\n",
    "- [NumPy](#numpy)\n",
    "- [SciPy](#scipy)\n",
    "- [Matplotlib](#matplotlib)\n",
    "- [Pandas](#pandas)\n"
   ]
  },
  {
   "cell_type": "markdown",
   "metadata": {},
   "source": [
    "## OS\n",
    "The `os` module provides a way of using operating system-dependent functionality like reading or writing to the file system. It allows you to interact with the file system in a platform-independent manner.\n",
    "\n",
    "### Features:\n",
    "- File and directory manipulation\n",
    "- Environment variables\n",
    "- Process management\n",
    "\n",
    "### Examples:"
   ]
  },
  {
   "cell_type": "code",
   "execution_count": 1,
   "metadata": {},
   "outputs": [],
   "source": [
    "import os\n",
    "\n",
    "# Example 1: Get current working directory\n",
    "current_directory = os.getcwd()\n",
    "current_directory"
   ]
  },
  {
   "cell_type": "code",
   "execution_count": 2,
   "metadata": {},
   "outputs": [],
   "source": [
    "# Example 2: List files in the current directory\n",
    "files = os.listdir(current_directory)\n",
    "files"
   ]
  },
  {
   "cell_type": "code",
   "execution_count": 3,
   "metadata": {},
   "outputs": [],
   "source": [
    "# Example 3: Create a new directory\n",
    "new_directory = os.path.join(current_directory, 'new_folder')\n",
    "os.makedirs(new_directory, exist_ok=True)\n",
    "new_directory"
   ]
  },
  {
   "cell_type": "code",
   "execution_count": 4,
   "metadata": {},
   "outputs": [],
   "source": [
    "# Example 4: Remove a directory\n",
    "os.rmdir(new_directory)  # Ensure the directory is empty before removing it\n"
   ]
  },
  {
   "cell_type": "code",
   "execution_count": 5,
   "metadata": {},
   "outputs": [],
   "source": [
    "# Example 5: Get environment variables\n",
    "env_vars = os.environ\n",
    "env_vars"
   ]
  },
  {
   "cell_type": "markdown",
   "metadata": {},
   "source": [
    "## Glob\n",
    "The `glob` module finds all the pathnames matching a specified pattern according to the rules used by the Unix shell. It is useful for file searching.\n",
    "\n",
    "### Features:\n",
    "- Pattern matching for file names\n",
    "- Supports wildcards\n",
    "\n",
    "### Examples:"
   ]
  },
  {
   "cell_type": "code",
   "execution_count": 6,
   "metadata": {},
   "outputs": [],
   "source": [
    "import glob\n",
    "\n",
    "# Example 1: Find all Python files\n",
    "py_files = glob.glob('*.py')\n",
    "py_files"
   ]
  },
  {
   "cell_type": "code",
   "execution_count": 7,
   "metadata": {},
   "outputs": [],
   "source": [
    "# Example 2: Find all text files in a directory\n",
    "txt_files = glob.glob('*.txt')\n",
    "txt_files"
   ]
  },
  {
   "cell_type": "code",
   "execution_count": 8,
   "metadata": {},
   "outputs": [],
   "source": [
    "# Example 3: Find files with a specific pattern\n",
    "pattern_files = glob.glob('data/*.csv')\n",
    "pattern_files"
   ]
  },
  {
   "cell_type": "code",
   "execution_count": 9,
   "metadata": {},
   "outputs": [],
   "source": [
    "# Example 4: Using recursive search\n",
    "all_py_files = glob.glob('**/*.py', recursive=True)\n",
    "all_py_files"
   ]
  },
  {
   "cell_type": "code",
   "execution_count": 10,
   "metadata": {},
   "outputs": [],
   "source": [
    "# Example 5: Find all JPEG images\n",
    "jpeg_files = glob.glob('*.jpeg')\n",
    "jpeg_files"
   ]
  },
  {
   "cell_type": "markdown",
   "metadata": {},
   "source": [
    "## NumPy\n",
    "NumPy is the fundamental package for numerical computations in Python. It provides support for arrays, matrices, and many mathematical functions.\n",
    "\n",
    "### Features:\n",
    "- N-dimensional arrays\n",
    "- Mathematical functions\n",
    "- Linear algebra routines\n",
    "\n",
    "### Examples:"
   ]
  },
  {
   "cell_type": "code",
   "execution_count": 11,
   "metadata": {},
   "outputs": [],
   "source": [
    "import numpy as np\n",
    "\n",
    "# Example 1: Create a 1D array\n",
    "array_1d = np.array([1, 2, 3, 4, 5])\n",
    "array_1d"
   ]
  },
  {
   "cell_type": "code",
   "execution_count": 12,
   "metadata": {},
   "outputs": [],
   "source": [
    "# Example 2: Create a 2D array\n",
    "array_2d = np.array([[1, 2, 3], [4, 5, 6]])\n",
    "array_2d"
   ]
  },
  {
   "cell_type": "code",
   "execution_count": 13,
   "metadata": {},
   "outputs": [],
   "source": [
    "# Example 3: Compute the mean of an array\n",
    "mean_value = np.mean(array_1d)\n",
    "mean_value"
   ]
  },
  {
   "cell_type": "code",
   "execution_count": 14,
   "metadata": {},
   "outputs": [],
   "source": [
    "# Example 4: Perform element-wise addition\n",
    "array_added = array_1d + 10\n",
    "array_added"
   ]
  },
  {
   "cell_type": "code",
   "execution_count": 15,
   "metadata": {},
   "outputs": [],
   "source": [
    "# Example 5: Reshape an array\n",
    "reshaped_array = array_2d.reshape((3, 2))\n",
    "reshaped_array"
   ]
  },
  {
   "cell_type": "markdown",
   "metadata": {},
   "source": [
    "## SciPy\n",
    "SciPy is an open-source library used for scientific and technical computing. It builds on NumPy and provides additional functionality.\n",
    "\n",
    "### Features:\n",
    "- Optimization\n",
    "- Integration\n",
    "- Interpolation\n",
    "\n",
    "### Examples:"
   ]
  },
  {
   "cell_type": "code",
   "execution_count": 16,
   "metadata": {},
   "outputs": [],
   "source": [
    "from scipy import optimize\n",
    "\n",
    "# Example 1: Minimize a simple function\n",
    "result = optimize.minimize(lambda x: (x - 2)**2, 0)\n",
    "result"
   ]
  },
  {
   "cell_type": "code",
   "execution_count": 17,
   "metadata": {},
   "outputs": [],
   "source": [
    "# Example 2: Solve a linear equation\n",
    "from scipy.linalg import solve\n",
    "A = np.array([[3, 1], [1, 2]])\n",
    "b = np.array([9, 8])\n",
    "solution = solve(A, b)\n",
    "solution"
   ]
  },
  {
   "cell_type": "code",
   "execution_count": 18,
   "metadata": {},
   "outputs": [],
   "source": [
    "# Example 3: Perform integration\n",
    "from scipy.integrate import quad\n",
    "integral_result, _ = quad(lambda x: x**2, 0, 1)\n",
    "integral_result"
   ]
  },
  {
   "cell_type": "code",
   "execution_count": 19,
   "metadata": {},
   "outputs": [],
   "source": [
    "# Example 4: Interpolate data\n",
    "from scipy.interpolate import interp1d\n",
    "x = np.array([0, 1, 2, 3])\n",
    "y = np.array([0, 1, 4, 9])\n",
    "f = interp1d(x, y)\n",
    "interpolated_value = f(1.5)\n",
    "interpolated_value"
   ]
  },
  {
   "cell_type": "code",
   "execution_count": 20,
   "metadata": {},
   "outputs": [],
   "source": [
    "# Example 5: Generate a Gaussian distribution\n",
    "from scipy.stats import norm\n",
    "data = norm.rvs(size=1000)\n",
    "data"
   ]
  },
  {
   "cell_type": "markdown",
   "metadata": {},
   "source": [
    "## Matplotlib\n",
    "Matplotlib is a plotting library for the Python programming language and its numerical mathematics extension, NumPy. It provides an object-oriented API for embedding plots into applications.\n",
    "\n",
    "### Features:\n",
    "- 2D plotting\n",
    "- Interactive plots\n",
    "- Customizable visualizations\n",
    "\n",
    "### Examples:"
   ]
  },
  {
   "cell_type": "code",
   "execution_count": 21,
   "metadata": {},
   "outputs": [],
   "source": [
    "import matplotlib.pyplot as plt\n",
    "\n",
    "# Example 1: Basic line plot\n",
    "plt.plot([1, 2, 3, 4], [1, 4, 9, 16])\n",
    "plt.title('Basic Line Plot')\n",
    "plt.xlabel('X-axis')\n",
    "plt.ylabel('Y-axis')\n",
    "plt.show()"
   ]
  },
  {
   "cell_type": "code",
   "execution_count": 22,
   "metadata": {},
   "outputs": [],
   "source": [
    "# Example 2: Scatter plot\n",
    "plt.scatter([1, 2, 3, 4], [1, 4, 9, 16])\n",
    "plt.title('Scatter Plot')\n",
    "plt.xlabel('X-axis')\n",
    "plt.ylabel('Y-axis')\n",
    "plt.show()"
   ]
  },
  {
   "cell_type": "code",
   "execution_count": 23,
   "metadata": {},
   "outputs": [],
   "source": [
    "# Example 3: Bar chart\n",
    "plt.bar(['A', 'B', 'C', 'D'], [3, 7, 5, 6])\n",
    "plt.title('Bar Chart')\n",
    "plt.xlabel('Categories')\n",
    "plt.ylabel('Values')\n",
    "plt.show()"
   ]
  },
  {
   "cell_type": "code",
   "execution_count": 24,
   "metadata": {},
   "outputs": [],
   "source": [
    "# Example 4: Histogram\n",
    "data = np.random.randn(1000)\n",
    "plt.hist(data, bins=30)\n",
    "plt.title('Histogram')\n",
    "plt.xlabel('Value')\n",
    "plt.ylabel('Frequency')\n",
    "plt.show()"
   ]
  },
  {
   "cell_type": "code",
   "execution_count": 25,
   "metadata": {},
   "outputs": [],
   "source": [
    "# Example 5: Pie chart\n",
    "sizes = [15, 30, 45, 10]\n",
    "plt.pie(sizes, labels=['A', 'B', 'C', 'D'], autopct='%1.1f%%')\n",
    "plt.title('Pie Chart')\n",
    "plt.show()"
   ]
  },
  {
   "cell_type": "markdown",
   "metadata": {},
   "source": [
    "## Pandas\n",
    "Pandas is a powerful data manipulation and analysis library for Python. It provides data structures like Series and DataFrames to handle and analyze data efficiently.\n",
    "\n",
    "### Features:\n",
    "- Data manipulation with DataFrames\n",
    "- Flexible data handling\n",
    "- Time series support\n",
    "\n",
    "### Examples:"
   ]
  },
  {
   "cell_type": "code",
   "execution_count": 26,
   "metadata": {},
   "outputs": [],
   "source": [
    "import pandas as pd\n",
    "\n",
    "# Example 1: Create a DataFrame\n",
    "data = {'Column1': [1, 2, 3], 'Column2': [4, 5, 6]}\n",
    "df = pd.DataFrame(data)\n",
    "df"
   ]
  },
  {
   "cell_type": "code",
   "execution_count": 27,
   "metadata": {},
   "outputs": [],
   "source": [
    "# Example 2: Read CSV file\n",
    "# df_from_csv = pd.read_csv('file.csv')  # Uncomment to read a CSV file\n",
    "# df_from_csv"
   ]
  },
  {
   "cell_type": "code",
   "execution_count": 28,
   "metadata": {},
   "outputs": [],
   "source": [
    "# Example 3: DataFrame operations\n",
    "df['Column3'] = df['Column1'] + df['Column2']\n",
    "df"
   ]
  },
  {
   "cell_type": "code",
   "execution_count": 29,
   "metadata": {},
   "outputs": [],
   "source": [
    "# Example 4: Group by operation\n",
    "grouped = df.groupby('Column1').sum()\n",
    "grouped"
   ]
  },
  {
   "cell_type": "code",
   "execution_count": 30,
   "metadata": {},
   "outputs": [],
   "source": [
    "# Example 5: Handling missing values\n",
    "df_with_nan = df.copy()\n",
    "df_with_nan.loc[1, 'Column2'] = None\n",
    "df_filled = df_with_nan.fillna(0)\n",
    "df_filled"
   ]
  }
 ],
 "metadata": {
  "kernelspec": {
   "display_name": "Python 3",
   "language": "python",
   "name": "python3"
  },
  "language_info": {
   "codemirror_mode": {
    "name": "ipython",
    "version": 3
   },
   "file_extension": ".py",
   "mimetype": "text/x-python",
   "name": "python",
   "nbconvert_exporter": "python",
   "pygments_lexer": "ipython3",
   "version": "3.8.5"
  }
 },
 "nbformat": 4,
 "nbformat_minor": 4
}
