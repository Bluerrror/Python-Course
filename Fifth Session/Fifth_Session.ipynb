{
  "cells": [
    {
      "cell_type": "markdown",
      "metadata": {
        "id": "view-in-github",
        "colab_type": "text"
      },
      "source": [
        "<a href=\"https://colab.research.google.com/github/shahab271069/Python-Course/blob/main/Fifth_Session.ipynb\" target=\"_parent\"><img src=\"https://colab.research.google.com/assets/colab-badge.svg\" alt=\"Open In Colab\"/></a>"
      ]
    },
    {
      "cell_type": "markdown",
      "metadata": {
        "id": "gQGtbSLxal0K"
      },
      "source": [
        "# Geospatial Data Analysis\n",
        "\n",
        "In this notebook, we will delve into three powerful Python libraries for geospatial data analysis: **GeoPandas**, **Rasterio**, and **Xarray**. Each section will contain examples and explanations to help you understand how to work with geospatial data effectively.\n",
        "\n",
        "## Table of Contents\n",
        "- [GeoPandas](#GeoPandas)\n",
        "- [Rasterio](#Rasterio)\n",
        "- [Xarray](#Xarray)\n"
      ]
    },
    {
      "cell_type": "markdown",
      "metadata": {
        "id": "Oz5VBfcbal0M"
      },
      "source": [
        "# GeoPandas\n",
        "\n",
        "GeoPandas is an open-source project that makes working with geospatial data in Python easier. It extends Pandas to enable spatial operations.\n",
        "\n",
        "## Installation\n",
        "You can install GeoPandas using pip:\n",
        "```bash\n",
        "!pip install geopandas\n",
        "```\n",
        "\n",
        "## Basic Usage\n",
        "Let's start by importing GeoPandas and loading a sample dataset of world countries.\n"
      ]
    },
    {
      "cell_type": "code",
      "execution_count": null,
      "metadata": {
        "id": "IJXGrLdkal0N"
      },
      "outputs": [],
      "source": [
        "import geopandas as gpd\n",
        "\n",
        "# Load a sample dataset (natural earth geometries)\n",
        "world = gpd.read_file(gpd.datasets.get_path('naturalearth_lowres'))\n",
        "world.head()"
      ]
    },
    {
      "cell_type": "markdown",
      "metadata": {
        "id": "7ZzcDn8jal0O"
      },
      "source": [
        "### Exploring the Dataset\n",
        "The dataset contains several columns including:\n",
        "- `name`: Country name\n",
        "- `continent`: Continent name\n",
        "- `geometry`: Geometric representation of the country\n",
        "\n",
        "### Plotting the Data\n",
        "We can easily plot the world map using the built-in `plot` function.\n"
      ]
    },
    {
      "cell_type": "code",
      "execution_count": null,
      "metadata": {
        "id": "hYX7tMB-al0O"
      },
      "outputs": [],
      "source": [
        "import matplotlib.pyplot as plt\n",
        "\n",
        "# Plot the world map\n",
        "world.plot(figsize=(10, 6))\n",
        "plt.title('World Map')\n",
        "plt.show()"
      ]
    },
    {
      "cell_type": "markdown",
      "metadata": {
        "id": "x6e-bCiUal0O"
      },
      "source": [
        "### Filtering Data\n",
        "We can filter the dataset to find specific countries or regions. For example, let's find the countries located in Africa.\n"
      ]
    },
    {
      "cell_type": "code",
      "execution_count": null,
      "metadata": {
        "id": "rbmURwkJal0P"
      },
      "outputs": [],
      "source": [
        "# Filter for African countries\n",
        "africa = world[world['continent'] == 'Africa']\n",
        "\n",
        "# Plot African countries\n",
        "africa.plot(figsize=(10, 6), color='lightgreen')\n",
        "plt.title('African Countries')\n",
        "plt.show()"
      ]
    },
    {
      "cell_type": "markdown",
      "metadata": {
        "id": "HHWFPtR6al0P"
      },
      "source": [
        "### Spatial Operations\n",
        "GeoPandas allows for various spatial operations. Let's calculate the area of each country and add it to the GeoDataFrame.\n"
      ]
    },
    {
      "cell_type": "code",
      "execution_count": null,
      "metadata": {
        "id": "nC45i7INal0P"
      },
      "outputs": [],
      "source": [
        "# Calculate area of each country\n",
        "world['area'] = world.geometry.area\n",
        "world[['name', 'area']].head()"
      ]
    },
    {
      "cell_type": "markdown",
      "metadata": {
        "id": "qlR7EpnVal0P"
      },
      "source": [
        "### Merging GeoDataFrames\n",
        "Suppose we have another dataset containing population data. We can merge it with our GeoDataFrame based on country names.\n",
        "\n",
        "#### Example Population Data\n",
        "Let's create a simple DataFrame with population data:\n"
      ]
    },
    {
      "cell_type": "code",
      "execution_count": null,
      "metadata": {
        "id": "vnV71uXral0Q"
      },
      "outputs": [],
      "source": [
        "import pandas as pd\n",
        "\n",
        "# Example population data\n",
        "population_data = pd.DataFrame({\n",
        "    'name': ['Brazil', 'Canada', 'China', 'Egypt', 'Germany'],\n",
        "    'population': [211000000, 37590000, 1393000000, 100000000, 83783942]\n",
        "})\n",
        "\n",
        "# Merge with the world GeoDataFrame\n",
        "merged = world.merge(population_data, on='name', how='left')\n",
        "merged[['name', 'population']].head()"
      ]
    },
    {
      "cell_type": "markdown",
      "metadata": {
        "id": "sSvW_jzcal0Q"
      },
      "source": [
        "# Rasterio\n",
        "\n",
        "Rasterio is a library for reading and writing geospatial raster data. It simplifies working with raster data by providing a Pythonic interface.\n",
        "\n",
        "## Installation\n",
        "You can install Rasterio using pip:\n",
        "```bash\n",
        "!pip install rasterio\n",
        "```\n",
        "\n",
        "## Basic Usage\n",
        "Let's open a raster file and explore its properties.\n"
      ]
    },
    {
      "cell_type": "code",
      "execution_count": null,
      "metadata": {
        "id": "Tut_SqNGal0Q"
      },
      "outputs": [],
      "source": [
        "import rasterio\n",
        "\n",
        "# Open a sample raster file (make sure to have a valid path)\n",
        "raster_path = 'path_to_your_raster_file.tif'\n",
        "with rasterio.open(raster_path) as src:\n",
        "    print(src.profile)"
      ]
    },
    {
      "cell_type": "markdown",
      "metadata": {
        "id": "WxdjFoRNal0Q"
      },
      "source": [
        "### Reading Raster Data\n",
        "We can read the raster data into a NumPy array and visualize it using matplotlib. Here's how to do that:\n"
      ]
    },
    {
      "cell_type": "code",
      "execution_count": null,
      "metadata": {
        "id": "pjwv0rodal0Q"
      },
      "outputs": [],
      "source": [
        "# Read the raster data\n",
        "with rasterio.open(raster_path) as src:\n",
        "    data = src.read(1)  # Read the first band\n",
        "\n",
        "# Plot the raster data\n",
        "plt.imshow(data, cmap='gray')\n",
        "plt.colorbar()\n",
        "plt.title('Raster Data')\n",
        "plt.show()"
      ]
    },
    {
      "cell_type": "markdown",
      "metadata": {
        "id": "OXZmujo1al0R"
      },
      "source": [
        "### Writing Raster Data\n",
        "You can also write NumPy arrays back to raster files. Here’s an example of how to create a new raster file:\n"
      ]
    },
    {
      "cell_type": "code",
      "execution_count": null,
      "metadata": {
        "id": "yBEQaaClal0R"
      },
      "outputs": [],
      "source": [
        "# Write raster data to a new file\n",
        "new_raster_path = 'new_raster_file.tif'\n",
        "with rasterio.open(new_raster_path, 'w', driver='GTiff', height=data.shape[0], width=data.shape[1],\n",
        "                   count=1, dtype=data.dtype, crs=src.crs, transform=src.transform) as dst:\n",
        "    dst.write(data, 1)\n",
        "print('New raster file created:', new_raster_path)"
      ]
    },
    {
      "cell_type": "markdown",
      "metadata": {
        "id": "wi7bXYkPal0R"
      },
      "source": [
        "# Xarray\n",
        "\n",
        "Xarray is a library that makes working with labeled multi-dimensional arrays simple and efficient. It is particularly useful for handling datasets like climate data.\n",
        "\n",
        "## Installation\n",
        "You can install Xarray using pip:\n",
        "```bash\n",
        "!pip install xarray\n",
        "```\n",
        "\n",
        "## Basic Usage\n",
        "Let's create a simple Xarray Dataset to understand its structure and capabilities.\n"
      ]
    },
    {
      "cell_type": "code",
      "execution_count": null,
      "metadata": {
        "id": "6U1jI1ejal0R"
      },
      "outputs": [],
      "source": [
        "import xarray as xr\n",
        "\n",
        "# Create a simple dataset\n",
        "data = xr.DataArray([[1, 2, 3], [4, 5, 6]], dims=['x', 'y'], coords={'x': [0, 1], 'y': [0, 1, 2]})\n",
        "data"
      ]
    },
    {
      "cell_type": "markdown",
      "metadata": {
        "id": "yniOyTPLal0S"
      },
      "source": [
        "### Working with NetCDF Files\n",
        "Xarray can easily handle NetCDF files, which are commonly used in climate and weather data. Here’s how to open a NetCDF file:\n"
      ]
    },
    {
      "cell_type": "code",
      "execution_count": null,
      "metadata": {
        "id": "U3uce3uNal0S"
      },
      "outputs": [],
      "source": [
        "# Open a NetCDF file (make sure to have a valid path)\n",
        "# dataset = xr.open_dataset('path_to_your_netcdf_file.nc')\n",
        "# print(dataset)"
      ]
    },
    {
      "cell_type": "markdown",
      "metadata": {
        "id": "e5lAoNgAal0S"
      },
      "source": [
        "### Data Manipulation\n",
        "You can perform various operations on Xarray datasets. For instance, let's create a dataset and calculate the mean along a dimension.\n"
      ]
    },
    {
      "cell_type": "code",
      "execution_count": null,
      "metadata": {
        "id": "ZTIT3Lvtal0T"
      },
      "outputs": [],
      "source": [
        "# Create a sample Xarray Dataset\n",
        "data = xr.DataArray(\n",
        "    [[1, 2, 3], [4, 5, 6]],\n",
        "    dims=['time', 'location'],\n",
        "    coords={'time': ['2021-01-01', '2021-01-02'], 'location': ['A', 'B', 'C']}\n",
        ")\n",
        "\n",
        "# Calculate the mean across time\n",
        "mean_data = data.mean(dim='time')\n",
        "mean_data"
      ]
    }
  ],
  "metadata": {
    "kernelspec": {
      "display_name": "Python 3",
      "language": "python",
      "name": "python3"
    },
    "language_info": {
      "codemirror_mode": {
        "name": "ipython",
        "version": 3
      },
      "file_extension": ".py",
      "mimetype": "text/x-python",
      "name": "python",
      "nbconvert_exporter": "python",
      "pygments_lexer": "ipython3",
      "version": "3.8.5"
    },
    "colab": {
      "provenance": [],
      "include_colab_link": true
    }
  },
  "nbformat": 4,
  "nbformat_minor": 0
}
