{
  "nbformat": 4,
  "nbformat_minor": 0,
  "metadata": {
    "colab": {
      "provenance": [],
      "authorship_tag": "ABX9TyOOHfuW8bcmB0qedY9dQ1mf",
      "include_colab_link": true
    },
    "kernelspec": {
      "name": "python3",
      "display_name": "Python 3"
    },
    "language_info": {
      "name": "python"
    }
  },
  "cells": [
    {
      "cell_type": "markdown",
      "metadata": {
        "id": "view-in-github",
        "colab_type": "text"
      },
      "source": [
        "<a href=\"https://colab.research.google.com/github/shahab271069/Python-Course/blob/main/MidTerm_Exam.ipynb\" target=\"_parent\"><img src=\"https://colab.research.google.com/assets/colab-badge.svg\" alt=\"Open In Colab\"/></a>"
      ]
    },
    {
      "cell_type": "markdown",
      "source": [
        "# Mid-Term Exam Instructions\n",
        "\n",
        "1. **Download Climate Data**:\n",
        "   - Use the `meteostat` package to download climate data for weather stations in Hessen state from 2010 to 2022.\n",
        "   - Ensure you include parameters for precipitation, maximum temperature, and minimum temperature.\n",
        "\n",
        "2. **Data Visualization**:\n",
        "   - Create time series plots for each NUTS 3 level in Hessen.\n",
        "   - Plot the average precipitation, maximum temperature, and minimum temperature on the same graph for better comparison.\n",
        "   - Use appropriate titles and labels for clarity.\n",
        "\n",
        "3. **Data Summary**:\n",
        "   - Generate a Pandas DataFrame that displays the average values for precipitation, maximum temperature, and minimum temperature for each NUTS 3 level over the years.\n",
        "   - Additionally, create a list and a dictionary summarizing these averages. Use clear keys for dictionary entries.\n",
        "\n",
        "4. **Data Comparison**:\n",
        "   - Compare the time series and average values for each NUTS 3 level using data from both the `meteostat` and `ERA5` datasets.\n",
        "   - Ensure that you align the datasets for the same date range.\n",
        "   - Utilize the `cubo` package for this comparison and consider using `gee` within `cubo`.\n",
        "\n",
        "5. **Bonus Score**:\n",
        "   - Conduct a statistical analysis using `scipy` to plot the Probability Density Function (PDF) and Cumulative Distribution Function (CDF) for precipitation, maximum temperature, and minimum temperature.\n"
      ],
      "metadata": {
        "id": "E6I3KjL5Mhi8"
      }
    },
    {
      "cell_type": "code",
      "source": [
        "# Required packages\n",
        "!pip install meteostat\n",
        "!pip install cubo[ee]"
      ],
      "metadata": {
        "id": "Cnker-WXONzU"
      },
      "execution_count": null,
      "outputs": []
    },
    {
      "cell_type": "code",
      "source": [
        "# Download Germnay Boudnaries with states\n",
        "!wget https://www.zensus2022.de/static/DE/gitterzellen/Shapefile_Zensus2022.zip\n",
        "!unzip Shapefile_Zensus2022.zip"
      ],
      "metadata": {
        "id": "Hh6jHtsvS8iR"
      },
      "execution_count": null,
      "outputs": []
    },
    {
      "cell_type": "code",
      "source": [
        "# Download NUTS3 level data\n",
        "!wget https://daten.gdz.bkg.bund.de/produkte/vg/nuts250_1231/aktuell/nuts250_12-31.utm32s.shape.zip\n",
        "!unzip  /content/nuts250_12-31.utm32s.shape.zip"
      ],
      "metadata": {
        "id": "N-SagclIQK_s"
      },
      "execution_count": null,
      "outputs": []
    },
    {
      "cell_type": "code",
      "source": [
        "# import packages here (for example geopandas package is imported)\n",
        "import geopandas as gpd"
      ],
      "metadata": {
        "id": "ibSaHFYoQaVy"
      },
      "execution_count": 3,
      "outputs": []
    },
    {
      "cell_type": "code",
      "source": [
        "# Read States of Germany shapefile\n",
        "dge = gpd.read_file('/content/EPSG_25832/VG250_LAN.shp')\n",
        "dge.plot()"
      ],
      "metadata": {
        "id": "r4lQQ9KnSbYq"
      },
      "execution_count": null,
      "outputs": []
    },
    {
      "cell_type": "code",
      "source": [
        "# Find Hessen State for further analysis\n",
        "Hessen = dge[dge['GEN']=='Hessen']"
      ],
      "metadata": {
        "id": "jrqJdyZwTjvT"
      },
      "execution_count": null,
      "outputs": []
    },
    {
      "cell_type": "code",
      "source": [
        "# Read NUTS3 levels of Germany shapefile\n",
        "dg = gpd.read_file('/content/nuts250_12-31.utm32s.shape/nuts250_1231/NUTS250_N3.shp')\n",
        "dg.plot()"
      ],
      "metadata": {
        "id": "bQrcFez7QnsN"
      },
      "execution_count": null,
      "outputs": []
    }
  ]
}