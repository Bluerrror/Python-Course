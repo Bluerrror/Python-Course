{
  "nbformat": 4,
  "nbformat_minor": 0,
  "metadata": {
    "colab": {
      "provenance": [],
      "authorship_tag": "ABX9TyN8Vjm5XLfE0hEb5GBJ6gul",
      "include_colab_link": true
    },
    "kernelspec": {
      "name": "python3",
      "display_name": "Python 3"
    },
    "language_info": {
      "name": "python"
    }
  },
  "cells": [
    {
      "cell_type": "markdown",
      "metadata": {
        "id": "view-in-github",
        "colab_type": "text"
      },
      "source": [
        "<a href=\"https://colab.research.google.com/github/Bluerrror/Python-Course/blob/main/Final_Exam.ipynb\" target=\"_parent\"><img src=\"https://colab.research.google.com/assets/colab-badge.svg\" alt=\"Open In Colab\"/></a>"
      ]
    },
    {
      "cell_type": "markdown",
      "source": [
        "# Exam Questions\n",
        "\n",
        "## Question 1: Remote Sensing Data Retrieval\n",
        "\n",
        "1. **Data Acquisition**\n",
        "   - Fetch data from **Sentinel-2** and **Landsat-8** for the area of **Witzenhausen** with an edge size of **1280 meters** in the year **2020**. Utilize:\n",
        "     - **STAC** (SpatioTemporal Asset Catalog)\n",
        "     - **Google Earth Engine (GEE)**\n",
        "\n",
        "2. **Index Computation**\n",
        "   - Utilize the **`cubo`** library to compute the following vegetation indices:\n",
        "     - **NDVI** (Normalized Difference Vegetation Index)\n",
        "     - **EVI** (Enhanced Vegetation Index)\n",
        "     - **SAVI** (Soil-Adjusted Vegetation Index)\n",
        "     - **NDWI** (Normalized Difference Water Index)\n",
        "\n",
        "3. **Visualization**\n",
        "   - Create time series plots for each index computed above.\n",
        "\n",
        "---\n",
        "\n",
        "## Question 2: Potential Evapotranspiration Calculation\n",
        "\n",
        "1. **Data Retrieval**\n",
        "   - Fetch data from **ERA5-Land** using **Google Earth Engine (GEE)**.\n",
        "\n",
        "2. **Parameter Acquisition**\n",
        "   - Retrieve the necessary parameters to calculate **Potential Evapotranspiration (PET)** using the **FAO-56** equation for Germany, with an edge size of **100 meters** in the year **2020**.\n",
        "   - **Hint:** Use the boundary of Germany and calculate PET only within this area.\n",
        "\n",
        "3. **Visualization**\n",
        "   - Create a time series plot of PET and calculate the average throughout the year.\n",
        "\n",
        "---\n",
        "\n",
        "## Question 3: Climate Data Analysis\n",
        "\n",
        "1. **Data Collection**\n",
        "   - Fetch climate data from **Meteostat** for **Witzenhausen** in the year **2020**.\n",
        "\n",
        "2. **Predictive Modeling**\n",
        "   - Use **Random Forest** to predict **NDVI** based on climate data from Meteostat in 2020.\n",
        "   - **Hint:** Use the average **NDVI** around Witzenhausen from step 1 as a reference.\n",
        "\n",
        "---\n",
        "\n",
        "## Question 4: Clustering Analysis\n",
        "\n",
        "- **Task:** Utilize climate and NDVI data to create **4 clusters** for one year.\n",
        "\n",
        "---\n",
        "\n",
        "## Question 5: Penman-Monteith Equation Implementation\n",
        "\n",
        "- **Task:** Implement the **Penman-Monteith Equation** as a Python function."
      ],
      "metadata": {
        "id": "9isE2bpA_xa5"
      }
    },
    {
      "cell_type": "code",
      "source": [],
      "metadata": {
        "id": "IdxhqnwU_yIa"
      },
      "execution_count": null,
      "outputs": []
    }
  ]
}